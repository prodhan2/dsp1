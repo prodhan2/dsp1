import numpy as np
import matplotlib.pyplot as plt

# Input signal
x = np.array([1, 2, 2, 2, 10, 2, 2, 3, 1])
n = np.arange(len(x))

# Alpha values
alphas = [0.1, 0.5, 0.9]
results = {}
S
# Recursive filter simulation
for alpha in alphas:
    y = np.zeros_like(x, dtype=float)
    for i in range(1, len(x)):
        y[i] = (1 - alpha) * y[i - 1] + alpha * x[i]
    results[alpha] = y

# Plotting
plt.figure(figsize=(10, 6))
plt.stem(n, x, linefmt='k-', markerfmt='ko', basefmt='k-', label='Input x[n]', use_line_collection=True)

for alpha in alphas:
    plt.plot(n, results[alpha], label=f'α = {alpha}')

plt.title("Effect of α on y[n] in Recursive Filter")
plt.xlabel("n")
plt.ylabel("Amplitude")
plt.legend()
plt.grid(True)
plt.tight_layout()
plt.show()
