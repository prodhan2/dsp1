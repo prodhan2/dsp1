{
 "cells": [
  {
   "cell_type": "code",
   "execution_count": null,
   "metadata": {},
   "outputs": [],
   "source": [
    "import numpy as np\n",
    "import matplotlib.pyplot as plt\n",
    "f1 = 1000\n",
    "f2 = 3000\n",
    "f3 = 6000\n",
    "sampling = [1400,1200 , 800]\n",
    "tmax =0.005\n",
    "t = np.linspace(0,tmax, 10000)\n",
    "x = 3*np.cos(2*np.pi*f1*t) +  5* np.sin(2*np.pi*f2*t) + 10*np.cos(2*np.pi*f3*t)\n",
    "plt.figure(figsize=(12,10))\n",
    "plt.subplot(4,1,1)\n",
    "plt.plot(t,x,label = \"original signal \")\n",
    "plt.grid(True)\n",
    "\n",
    "for i, fs in enumerate(sampling) :\n",
    "    n = np.arange(0,tmax,1/fs)\n",
    "    x_sample = 3*np.cos(2*np.pi*f1*n) +  5* np.sin(2*np.pi*f2*n) + 10*np.cos(2*np.pi*f3*n)\n",
    "    plt.subplot(len(sampling)+1 , 1, i+2)\n",
    "    plt.title(f\"Sampling frequency = {fs} Hz\")\n",
    "    plt.stem(n,x_sample)\n",
    "    plt.ylabel(\"Amplitude\")\n",
    "    plt.xlabel(\"Time (s)\")\n",
    "    plt.tight_layout()\n",
    "    plt.grid()\n",
    "    \n",
    "    \n",
    "\n",
    "plt.show()\n"
   ]
  },
  {
   "cell_type": "code",
   "execution_count": null,
   "metadata": {},
   "outputs": [],
   "source": []
  },
  {
   "cell_type": "code",
   "execution_count": null,
   "metadata": {},
   "outputs": [],
   "source": [
    "import numpy as np\n",
    "import matplotlib.pyplot as plt\n"
   ]
  },
  {
   "cell_type": "code",
   "execution_count": null,
   "metadata": {},
   "outputs": [],
   "source": [
    "x = 3 *np.cos(100*np.pi*t)\n",
    "tmax = 0.1\n",
    "fs1 = 200\n",
    "fs2 = 75\n",
    "\n",
    "\n",
    "n1 = np.arange(0, tmax, 1/fs1)\n",
    "n2 = np.arange(0, tmax, 1/fs2)\n",
    "x1 = 3 *np.cos(100*np.pi*n1)\n",
    "x2 = 3 *np.cos(100*np.pi*n2)\n",
    "\n",
    "plt.figure(figsize=(10,8))\n",
    "\n",
    "plt.subplot(2,1,1)\n",
    "plt.title(f\"Sampling frequency = {fs1} Hz\")\n",
    "plt.stem(n1,x1)\n",
    "plt.ylabel(\"Amplitude\")\n",
    "plt.xlabel(\"Time (s)\")\n",
    "plt.grid(True)\n",
    "\n",
    "plt.subplot(2,1,2)\n",
    "plt.title(f\"Sampling frequency = {fs2} Hz\")\n",
    "plt.stem(n2,x2)\n",
    "plt.ylabel(\"Amplitude\")\n",
    "plt.xlabel(\"Time (s)\")\n",
    "plt.grid(True)\n",
    "plt.tight_layout()\n",
    "plt.show()\n"
   ]
  },
  {
   "cell_type": "code",
   "execution_count": null,
   "metadata": {},
   "outputs": [],
   "source": []
  },
  {
   "cell_type": "code",
   "execution_count": null,
   "metadata": {},
   "outputs": [],
   "source": []
  }
 ],
 "metadata": {
  "kernelspec": {
   "display_name": "Python 3",
   "language": "python",
   "name": "python3"
  },
  "language_info": {
   "codemirror_mode": {
    "name": "ipython",
    "version": 3
   },
   "file_extension": ".py",
   "mimetype": "text/x-python",
   "name": "python",
   "nbconvert_exporter": "python",
   "pygments_lexer": "ipython3",
   "version": "3.12.3"
  }
 },
 "nbformat": 4,
 "nbformat_minor": 2
}
